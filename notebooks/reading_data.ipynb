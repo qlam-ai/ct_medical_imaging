{
 "cells": [
  {
   "cell_type": "code",
   "execution_count": 7,
   "metadata": {},
   "outputs": [],
   "source": [
    "import nibabel as nib\n",
    "import matplotlib.pyplot as plt\n",
    "\n",
    "# Function to load a .nii.gz file\n",
    "def load_nifti_file(file_path):\n",
    "    # Load the NIfTI file using Nibabel\n",
    "    nifti_img = nib.load(file_path)\n",
    "    # Get the image data as a NumPy array\n",
    "    img_data = nifti_img.get_fdata()\n",
    "    return img_data\n",
    "\n",
    "# Function to display a slice of the image\n",
    "def display_slice(img_data, slice_index, axis=2):\n",
    "    \"\"\"\n",
    "    Display a single slice of the 3D image.\n",
    "    \n",
    "    Parameters:\n",
    "    - img_data: 3D or 4D NumPy array of image data.\n",
    "    - slice_index: Index of the slice to display.\n",
    "    - axis: Axis along which to slice (0 for sagittal, 1 for coronal, 2 for axial).\n",
    "    \"\"\"\n",
    "    if axis == 0:  # Sagittal\n",
    "        slice_data = img_data[slice_index, :, :]\n",
    "    elif axis == 1:  # Coronal\n",
    "        slice_data = img_data[:, slice_index, :]\n",
    "    elif axis == 2:  # Axial\n",
    "        slice_data = img_data[:, :, slice_index]\n",
    "    else:\n",
    "        raise ValueError(\"Axis must be 0 (sagittal), 1 (coronal), or 2 (axial).\")\n",
    "    \n",
    "    plt.imshow(slice_data.T, cmap='gray', origin='lower')\n",
    "    plt.title(f\"Slice {slice_index} (Axis {axis})\")\n",
    "    plt.axis('off')\n",
    "    plt.show()\n"
   ]
  },
  {
   "cell_type": "code",
   "execution_count": 11,
   "metadata": {},
   "outputs": [
    {
     "data": {
      "image/png": "[encoded data removed]",
      "text/plain": [
       "<Figure size 640x480 with 1 Axes>"
      ]
     },
     "metadata": {},
     "output_type": "display_data"
    }
   ],
   "source": [
    "# Path to your .nii.gz file\n",
    "file_path = \"/Users/naimsassine/Desktop/Pstuff/DS/ct_medical_imaging/code/picai_labels-main/csPCa_lesion_delineations/AI/Bosma22a/10235_1000239.nii.gz\"  # Replace with your file path\n",
    "\n",
    "# Load the image data\n",
    "img_data = load_nifti_file(file_path)\n",
    "\n",
    "# Display a specific slice (e.g., middle slice along the axial axis)\n",
    "middle_slice_index = img_data.shape[2] // 2  # Axial middle slice\n",
    "display_slice(img_data, middle_slice_index, axis=2)"
   ]
  },
  {
   "cell_type": "code",
   "execution_count": null,
   "metadata": {},
   "outputs": [],
   "source": [
    "# what type of image should I take during my training.? T2? autre?\n",
    "# ah so wtf the api is only for CT scans? so no prostate?"
   ]
  }
 ],
 "metadata": {
  "kernelspec": {
   "display_name": "base",
   "language": "python",
   "name": "python3"
  },
  "language_info": {
   "codemirror_mode": {
    "name": "ipython",
    "version": 3
   },
   "file_extension": ".py",
   "mimetype": "text/x-python",
   "name": "python",
   "nbconvert_exporter": "python",
   "pygments_lexer": "ipython3",
   "version": "3.12.8"
  }
 },
 "nbformat": 4,
 "nbformat_minor": 2
}
